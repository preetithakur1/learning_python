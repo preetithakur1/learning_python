{
 "cells": [
  {
   "cell_type": "code",
   "execution_count": 1,
   "metadata": {},
   "outputs": [],
   "source": [
    "import numpy as np\n",
    "from sklearn.model_selection import train_test_split\n",
    "import matplotlib.pyplot as plt\n",
    "%matplotlib inline"
   ]
  },
  {
   "cell_type": "code",
   "execution_count": 11,
   "metadata": {},
   "outputs": [
    {
     "data": {
      "text/plain": [
       "array([[-0.21767896,  0.82145535],\n",
       "       [ 1.48127781,  1.33186404],\n",
       "       [-0.36186537,  0.68560883],\n",
       "       [ 0.57376143,  0.28772767],\n",
       "       [-0.23563426,  0.95349024],\n",
       "       [-1.6896253 , -0.34494271],\n",
       "       [ 0.0169049 , -0.51498352],\n",
       "       [ 0.24450929, -0.18931261],\n",
       "       [ 2.67217242,  0.46480249],\n",
       "       [ 0.84593044, -0.50354158],\n",
       "       [-0.96333553,  0.06496863],\n",
       "       [-3.20504023,  1.05496943],\n",
       "       [ 0.80727669,  0.47414055],\n",
       "       [ 0.41092825,  0.48668927],\n",
       "       [-0.53552971, -0.83890794],\n",
       "       [-0.81237482, -0.45079294],\n",
       "       [ 1.07080136,  0.21742115],\n",
       "       [-1.17585859, -0.92611679],\n",
       "       [-0.99394766,  0.58680631],\n",
       "       [ 1.06381324,  0.23774086],\n",
       "       [-0.77505656, -0.97910395],\n",
       "       [-1.54936294, -1.20682824],\n",
       "       [ 0.44500823, -0.17308621],\n",
       "       [ 1.48894719, -0.79252049],\n",
       "       [ 1.8389971 , -0.43936212],\n",
       "       [ 1.16000317, -0.57709345],\n",
       "       [-1.0310444 , -0.83888545],\n",
       "       [ 0.31693406,  0.35325398],\n",
       "       [ 1.51572304, -0.37785023],\n",
       "       [-1.09267955, -0.64834252],\n",
       "       [ 1.47998549, -2.10530069],\n",
       "       [ 0.22869489,  0.36062884],\n",
       "       [-1.43988653, -0.66270577],\n",
       "       [-0.66163722, -0.59599698],\n",
       "       [ 0.05219505, -1.55332683],\n",
       "       [ 1.65425776,  0.65685868],\n",
       "       [-0.53856594, -0.99684778],\n",
       "       [-1.73212696, -1.66017338],\n",
       "       [ 0.23508278,  0.11515449],\n",
       "       [-2.55938452, -0.23332046],\n",
       "       [ 0.59316742,  1.4717105 ],\n",
       "       [-0.23423896, -0.08445903],\n",
       "       [ 0.26334763, -0.5169208 ],\n",
       "       [ 1.08250174, -0.68891406],\n",
       "       [-1.05726513,  0.47787975],\n",
       "       [-0.69237606, -0.77757385],\n",
       "       [ 0.21154881, -0.27592737],\n",
       "       [-0.20624515, -0.52948817],\n",
       "       [-0.37231224, -1.84080404],\n",
       "       [ 0.28970762, -1.35265794],\n",
       "       [ 0.10174192,  0.31973437],\n",
       "       [-0.24087926,  0.36202917],\n",
       "       [ 0.07311517, -0.60615154],\n",
       "       [ 0.07902097,  1.62869431],\n",
       "       [ 0.34289703,  0.14899832],\n",
       "       [-0.61346536, -1.04888898],\n",
       "       [-0.14794491,  0.8742107 ],\n",
       "       [-0.92667406,  0.29742179],\n",
       "       [-1.34865268,  2.59556524],\n",
       "       [-0.3971976 , -0.34903245],\n",
       "       [ 1.08273712, -0.06717702],\n",
       "       [ 1.25990378,  0.99853113],\n",
       "       [ 1.33200677, -2.14102436],\n",
       "       [ 0.28826839, -0.94947391],\n",
       "       [-0.48749166,  0.04498804],\n",
       "       [-2.24663107,  1.14399934],\n",
       "       [ 2.30470701,  1.70226334],\n",
       "       [-0.24416241,  0.37347945],\n",
       "       [ 1.35942622, -0.48837533],\n",
       "       [ 0.30688025, -1.20650674],\n",
       "       [-2.50569158, -1.32889034],\n",
       "       [-0.48335556,  0.92755767],\n",
       "       [-0.84744681,  0.3839308 ],\n",
       "       [-0.43694592,  0.4419962 ],\n",
       "       [ 1.95827972,  0.2615328 ],\n",
       "       [-1.74828001,  1.62381135],\n",
       "       [ 0.80690952, -1.37415163],\n",
       "       [-0.67424726,  1.82451378],\n",
       "       [-0.07429237,  0.43458675],\n",
       "       [-0.25654201,  1.57051968],\n",
       "       [ 0.6573325 ,  0.03823273],\n",
       "       [ 0.03767877,  0.78347715],\n",
       "       [ 0.52147536,  0.53434009],\n",
       "       [-1.09113885, -1.86876321],\n",
       "       [-1.02762397,  0.09782066],\n",
       "       [-0.63385299, -0.04775885],\n",
       "       [-0.2723934 ,  1.22657613],\n",
       "       [ 0.81703723, -1.04435678],\n",
       "       [ 0.61993916,  2.11462931],\n",
       "       [ 0.05958417,  0.64670261],\n",
       "       [ 0.30880252, -2.59438509],\n",
       "       [ 0.44789723, -0.23759655],\n",
       "       [ 1.95865726, -0.77826961],\n",
       "       [ 1.25843724, -0.1825863 ],\n",
       "       [-0.52763082, -0.01887031],\n",
       "       [ 2.26599559, -0.19561928],\n",
       "       [-1.3861033 ,  1.68538175],\n",
       "       [-0.63238083,  0.06372361],\n",
       "       [-0.52028714,  0.38242531],\n",
       "       [ 1.0581685 ,  0.03609706]])"
      ]
     },
     "execution_count": 11,
     "metadata": {},
     "output_type": "execute_result"
    }
   ],
   "source": [
    "np.random.seed(2019)\n",
    "data = np.random.randn(100,2)\n",
    "data"
   ]
  },
  {
   "cell_type": "code",
   "execution_count": 12,
   "metadata": {},
   "outputs": [
    {
     "data": {
      "text/plain": [
       "array([[ 9.12928415,  6.27893749],\n",
       "       [15.92511124,  6.44811669],\n",
       "       [ 8.55253851,  2.57539383],\n",
       "       [12.29504571, 11.51477725],\n",
       "       [ 9.05746296,  5.59599329],\n",
       "       [ 3.24149879,  0.80444409],\n",
       "       [10.06761959,  8.49684281],\n",
       "       [10.97803717,  6.18968717],\n",
       "       [20.68868967, 15.38226096],\n",
       "       [13.38372178,  3.6038702 ],\n",
       "       [ 6.14665788,  4.73129194],\n",
       "       [-2.82016093,  8.99412452],\n",
       "       [13.22910678, -3.56409745],\n",
       "       [11.64371299,  1.20210434],\n",
       "       [ 7.85788117,  5.17995217],\n",
       "       [ 6.75050072,  9.57599737],\n",
       "       [14.28320542, 11.80905335],\n",
       "       [ 5.29656562,  6.4939178 ],\n",
       "       [ 6.02420936,  3.04649866],\n",
       "       [14.25525297,  0.17397305],\n",
       "       [ 6.89977375, -0.31556134],\n",
       "       [ 3.80254826,  8.71023068],\n",
       "       [11.78003293,  6.5357232 ],\n",
       "       [15.95578876,  6.76798479],\n",
       "       [17.3559884 ,  6.0461312 ],\n",
       "       [14.64001267, 11.49524542],\n",
       "       [ 5.87582241, -0.49660653],\n",
       "       [11.26773625, 12.29805514],\n",
       "       [16.06289218,  6.738347  ],\n",
       "       [ 5.62928181, 11.28207873],\n",
       "       [15.91994198,  5.15293092],\n",
       "       [10.91477956,  8.13390858],\n",
       "       [ 4.24045389,  7.13736036],\n",
       "       [ 7.35345113, -2.47505282],\n",
       "       [10.20878022,  5.39128263],\n",
       "       [16.61703102,  4.80896458],\n",
       "       [ 7.84573623,  9.90630451],\n",
       "       [ 3.07149217,  0.8225729 ],\n",
       "       [10.94033114, 13.45851724],\n",
       "       [-0.23753809,  7.58681046],\n",
       "       [12.37266967, -5.37754038],\n",
       "       [ 9.06304417,  4.04961379],\n",
       "       [11.05339054,  1.88692157],\n",
       "       [14.33000697,  4.2696548 ],\n",
       "       [ 5.77093947,  4.92451877],\n",
       "       [ 7.23049575,  4.21752288],\n",
       "       [10.84619523, 11.74152701],\n",
       "       [ 9.1750194 ,  5.25489442],\n",
       "       [ 8.51075105,  6.52970124],\n",
       "       [11.1588305 ,  5.14438823],\n",
       "       [18.4069677 , 14.27893749],\n",
       "       [17.03648297, 14.44811669],\n",
       "       [18.29246067, 10.57539383],\n",
       "       [18.31608389, 19.51477725],\n",
       "       [19.37158813, 13.59599329],\n",
       "       [15.54613857,  8.80444409],\n",
       "       [17.40822037, 16.49684281],\n",
       "       [14.29330378, 14.18968717],\n",
       "       [12.60538927, 23.38226096],\n",
       "       [16.41120958, 11.6038702 ],\n",
       "       [22.33094848, 12.73129194],\n",
       "       [23.03961513, 16.99412452],\n",
       "       [23.32802709,  4.43590255],\n",
       "       [19.15307356,  9.20210434],\n",
       "       [16.05003336, 13.17995217],\n",
       "       [ 9.01347571, 17.57599737],\n",
       "       [27.21882803, 19.80905335],\n",
       "       [17.02335036, 14.4939178 ],\n",
       "       [23.43770488, 11.04649866],\n",
       "       [19.22752099,  8.17397305],\n",
       "       [ 7.97723369,  7.68443866],\n",
       "       [16.06657774, 16.71023068],\n",
       "       [14.61021278, 14.5357232 ],\n",
       "       [16.25221631, 14.76798479],\n",
       "       [25.83311888, 14.0461312 ],\n",
       "       [11.00687997, 19.49524542],\n",
       "       [21.22763807,  7.50339347],\n",
       "       [15.30301096, 20.29805514],\n",
       "       [17.70283052, 14.738347  ],\n",
       "       [16.97383196, 19.28207873],\n",
       "       [20.62933   , 13.15293092],\n",
       "       [18.15071507, 16.13390858],\n",
       "       [20.08590142, 15.13736036],\n",
       "       [13.63544462,  5.52494718],\n",
       "       [13.88950411, 13.39128263],\n",
       "       [15.46458804, 12.80896458],\n",
       "       [16.91042641, 17.90630451],\n",
       "       [21.26814893,  8.8225729 ],\n",
       "       [20.47975665, 21.45851724],\n",
       "       [18.23833668, 15.58681046],\n",
       "       [19.23521008,  2.62245962],\n",
       "       [19.79158894, 12.04961379],\n",
       "       [25.83462905,  9.88692157],\n",
       "       [23.03374897, 12.2696548 ],\n",
       "       [15.88947671, 12.92451877],\n",
       "       [27.06398237, 12.21752288],\n",
       "       [12.45558681, 19.74152701],\n",
       "       [15.47047666, 13.25489442],\n",
       "       [15.91885144, 14.52970124],\n",
       "       [22.23267402, 13.14438823]])"
      ]
     },
     "execution_count": 12,
     "metadata": {},
     "output_type": "execute_result"
    }
   ],
   "source": [
    "data[:50,0]=data[:50,0]*4+10\n",
    "data[:50,1]=data[50:,1]*4+5\n",
    "\n",
    "data[50:,0]=data[50:,0]*4+18\n",
    "data[50:,1]=data[50:,1]*4+13\n",
    "data"
   ]
  },
  {
   "cell_type": "code",
   "execution_count": 13,
   "metadata": {},
   "outputs": [
    {
     "data": {
      "text/plain": [
       "array([1., 1., 1., 1., 1., 1., 1., 1., 1., 1., 1., 1., 1., 1., 1., 1., 1.,\n",
       "       1., 1., 1., 1., 1., 1., 1., 1., 1., 1., 1., 1., 1., 1., 1., 1., 1.,\n",
       "       1., 1., 1., 1., 1., 1., 1., 1., 1., 1., 1., 1., 1., 1., 1., 1., 0.,\n",
       "       0., 0., 0., 0., 0., 0., 0., 0., 0., 0., 0., 0., 0., 0., 0., 0., 0.,\n",
       "       0., 0., 0., 0., 0., 0., 0., 0., 0., 0., 0., 0., 0., 0., 0., 0., 0.,\n",
       "       0., 0., 0., 0., 0., 0., 0., 0., 0., 0., 0., 0., 0., 0., 0.])"
      ]
     },
     "execution_count": 13,
     "metadata": {},
     "output_type": "execute_result"
    }
   ],
   "source": [
    "y=np.append(np.ones(50),np.zeros(50))\n",
    "y"
   ]
  },
  {
   "cell_type": "code",
   "execution_count": 15,
   "metadata": {},
   "outputs": [
    {
     "data": {
      "text/plain": [
       "<matplotlib.collections.PathCollection at 0x1fc77afe80>"
      ]
     },
     "execution_count": 15,
     "metadata": {},
     "output_type": "execute_result"
    },
    {
     "data": {
      "image/png": "[encoded data removed]",
      "text/plain": [
       "<Figure size 432x288 with 1 Axes>"
      ]
     },
     "metadata": {
      "needs_background": "light"
     },
     "output_type": "display_data"
    }
   ],
   "source": [
    "plt.scatter(data[:50,0], data[:50,1],color=\"red\",marker='o',label='class1')\n",
    "plt.scatter(data[50:,0], data[50:,1],color='blue',marker='o',label='class2')"
   ]
  },
  {
   "cell_type": "code",
   "execution_count": 16,
   "metadata": {},
   "outputs": [],
   "source": [
    "X_train, X_test, y_train , y_test = train_test_split( data , y , test_size=0.25,stratify=y)"
   ]
  },
  {
   "cell_type": "code",
   "execution_count": 17,
   "metadata": {},
   "outputs": [],
   "source": [
    "def sigmoid(scores):\n",
    "    return 1 / (1 + np.exp(-scores))"
   ]
  },
  {
   "cell_type": "code",
   "execution_count": 18,
   "metadata": {},
   "outputs": [],
   "source": [
    "def cost_function(features, target, weights):\n",
    "    scores = np.dot(features,weight)\n",
    "    cf = np.sum( -target*scores +0 )\n",
    "    return cf"
   ]
  },
  {
   "cell_type": "code",
   "execution_count": 19,
   "metadata": {},
   "outputs": [],
   "source": [
    "def logistic_regression(features, target, num_steps, learning_rate,add_intercept=\"False\"):\n",
    "    if add_intercept:\n",
    "        intercept = np.ones((features.shape[0],1))\n",
    "        features = np.hstack((intercept, features))\n",
    "    ypred=[]\n",
    "    weights=np.zeros(features.shape[1])\n",
    "    \n",
    "    for i in range(num_steps):\n",
    "        scores = np.dot(features,weights)\n",
    "        predictions = sigmoid(scores)\n",
    "        gradient = np.dot(features.T,predictions-target)\n",
    "        weights =weights- ((learning_rate/features.shape[0]) * gradient)\n",
    "        \n",
    "    score_final = np.dot(features,weights)\n",
    "    score_final_sigmoid=sigmoid(score_final)\n",
    "    ypred=np.round(score_final_sigmoid)\n",
    "    \n",
    "    return ypred"
   ]
  },
  {
   "cell_type": "code",
   "execution_count": 21,
   "metadata": {},
   "outputs": [
    {
     "name": "stdout",
     "output_type": "stream",
     "text": [
      "0.72\n"
     ]
    }
   ],
   "source": [
    "i=logistic_regression(X_test,y_test,1000,0.12,add_intercept=\"True\")\n",
    "print(np.sum((i-y_test)==0)/len(i))"
   ]
  },
  {
   "cell_type": "code",
   "execution_count": null,
   "metadata": {},
   "outputs": [],
   "source": []
  }
 ],
 "metadata": {
  "kernelspec": {
   "display_name": "Python 3",
   "language": "python",
   "name": "python3"
  },
  "language_info": {
   "codemirror_mode": {
    "name": "ipython",
    "version": 3
   },
   "file_extension": ".py",
   "mimetype": "text/x-python",
   "name": "python",
   "nbconvert_exporter": "python",
   "pygments_lexer": "ipython3",
   "version": "3.7.0"
  }
 },
 "nbformat": 4,
 "nbformat_minor": 2
}
